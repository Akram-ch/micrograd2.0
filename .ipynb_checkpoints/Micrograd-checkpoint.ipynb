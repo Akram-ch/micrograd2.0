{
 "cells": [
  {
   "cell_type": "code",
   "execution_count": 3,
   "id": "78e591a3-ff10-44ce-b6ff-b1b0bcc39de7",
   "metadata": {},
   "outputs": [],
   "source": [
    "import math\n",
    "import random"
   ]
  },
  {
   "cell_type": "code",
   "execution_count": 4,
   "id": "9d2a827b-6170-47cc-a2ed-800ef7eb6e32",
   "metadata": {},
   "outputs": [],
   "source": [
    "class Value:\n",
    "    def __init__(self, data, label='', _op='', _children=()):\n",
    "        self.data = data\n",
    "        self._op = _op\n",
    "        self._prev = set(_children)\n",
    "        self.label = label\n",
    "        self.grad = 0.0\n",
    "        self._backward = lambda: None\n",
    "        \n",
    "        \n",
    "    def __repr__(self) :\n",
    "        return f\"Value(data={self.data})\"\n",
    "    \n",
    "    def __add__(self, other):\n",
    "        if not isinstance(other, Value):\n",
    "            other = Value(other)\n",
    "        out = Value(self.data + other.data, _op='+', _children=(self, other))\n",
    "        def _backward():\n",
    "            self.grad += 1.0 * out.grad \n",
    "            other.grad += 1.0 * out.grad\n",
    "        \n",
    "        out._backward = _backward\n",
    "        return out\n",
    "    \n",
    "    def __mul__(self, other):\n",
    "        if not isinstance(other, Value):\n",
    "            other = Value(other)\n",
    "        out = Value(self.data * other.data, _op='*', _children=(self, other))\n",
    "        def _backward():\n",
    "            print(\"mul grad\")\n",
    "            self.grad += other.data * out.grad\n",
    "            other.grad += self.data * out.grad\n",
    "        out._backward = _backward\n",
    "        return out\n",
    "    \n",
    "    def __rmul__(self, other) :\n",
    "        return self*other\n",
    "    \n",
    "    def tanh(self):\n",
    "        out = Value(math.tanh(self.data), _children=(self, ), _op='tanh')\n",
    "        def _backward():\n",
    "            self.grad += 1 - (out.data**2)\n",
    "        out._backward = _backward\n",
    "        return out\n",
    "    \n",
    "    def exp(self):\n",
    "        out = Value(math.exp(self.data), _children=(self, ), _op='exp')\n",
    "        def _backward():\n",
    "            self.grad += out.data\n",
    "        out._backward = _backward\n",
    "        return out\n",
    "        \n",
    "    def backward(self):\n",
    "        topo = []\n",
    "        visited = set()\n",
    "        def build_topo(v):\n",
    "            if v not in visited:\n",
    "                visited.add(v)\n",
    "                for child in v._prev:\n",
    "                    build_topo(child)\n",
    "                topo.append(v)\n",
    "        build_topo(self)\n",
    "        self.grad = 1.0\n",
    "        rev_topo = list(reversed(topo))\n",
    "        for node in rev_topo:\n",
    "            node._backward()"
   ]
  },
  {
   "cell_type": "code",
   "execution_count": 5,
   "id": "fbf1b97e-0253-4816-8ced-dd244eee6c79",
   "metadata": {},
   "outputs": [],
   "source": [
    "from graphviz import Digraph\n",
    "\n",
    "def trace(root):\n",
    "  # builds a set of all nodes and edges in a graph\n",
    "  nodes, edges = set(), set()\n",
    "  def build(v):\n",
    "    if v not in nodes:\n",
    "      nodes.add(v)\n",
    "      for child in v._prev:\n",
    "        edges.add((child, v))\n",
    "        build(child)\n",
    "  build(root)\n",
    "  return nodes, edges\n",
    "\n",
    "def draw_dot(root):\n",
    "  dot = Digraph(format='svg', graph_attr={'rankdir': 'LR'}) # LR = left to right\n",
    "  \n",
    "  nodes, edges = trace(root)\n",
    "  for n in nodes:\n",
    "    uid = str(id(n))\n",
    "    # for any value in the graph, create a rectangular ('record') node for it\n",
    "    dot.node(name = uid, label = \"{ %s | data %.4f | grad %.4f }\" % (n.label, n.data, n.grad), shape='record')\n",
    "    if n._op:\n",
    "      # if this value is a result of some operation, create an op node for it\n",
    "      dot.node(name = uid + n._op, label = n._op)\n",
    "      # and connect this node to it\n",
    "      dot.edge(uid + n._op, uid)\n",
    "\n",
    "  for n1, n2 in edges:\n",
    "    # connect n1 to the op node of n2\n",
    "    dot.edge(str(id(n1)), str(id(n2)) + n2._op)\n",
    "\n",
    "  return dot"
   ]
  },
  {
   "cell_type": "code",
   "execution_count": 6,
   "id": "55400421-fd08-4e3e-8ca9-519b362f1313",
   "metadata": {},
   "outputs": [
    {
     "name": "stdout",
     "output_type": "stream",
     "text": [
      "mul grad\n"
     ]
    }
   ],
   "source": [
    "a = Value(.5, 'a')\n",
    "b = Value(1.0, 'c')\n",
    "c = a + b; c.label = 'c'\n",
    "d = Value(0.2, 'd')\n",
    "L = c * d; L.label = \"L\"\n",
    "#Ltan = L.tanh(); Ltan.label=\"ltan\"\n",
    "Lexp = L.exp(); Lexp.label=\"Lexp\"\n",
    "Lexp.backward()"
   ]
  },
  {
   "cell_type": "code",
   "execution_count": 7,
   "id": "7d82205a-79e4-46fb-85b3-4bf25433b669",
   "metadata": {},
   "outputs": [
    {
     "data": {
      "image/svg+xml": [
       "<?xml version=\"1.0\" encoding=\"UTF-8\" standalone=\"no\"?>\n",
       "<!DOCTYPE svg PUBLIC \"-//W3C//DTD SVG 1.1//EN\"\n",
       " \"http://www.w3.org/Graphics/SVG/1.1/DTD/svg11.dtd\">\n",
       "<!-- Generated by graphviz version 8.0.5 (20230430.1635)\n",
       " -->\n",
       "<!-- Pages: 1 -->\n",
       "<svg width=\"1151pt\" height=\"127pt\"\n",
       " viewBox=\"0.00 0.00 1151.00 127.00\" xmlns=\"http://www.w3.org/2000/svg\" xmlns:xlink=\"http://www.w3.org/1999/xlink\">\n",
       "<g id=\"graph0\" class=\"graph\" transform=\"scale(1 1) rotate(0) translate(4 123)\">\n",
       "<polygon fill=\"white\" stroke=\"none\" points=\"-4,4 -4,-123 1147,-123 1147,4 -4,4\"/>\n",
       "<!-- 2190885919248 -->\n",
       "<g id=\"node1\" class=\"node\">\n",
       "<title>2190885919248</title>\n",
       "<polygon fill=\"none\" stroke=\"black\" points=\"311.62,-27.5 311.62,-63.5 496.88,-63.5 496.88,-27.5 311.62,-27.5\"/>\n",
       "<text text-anchor=\"middle\" x=\"323\" y=\"-40.2\" font-family=\"Times New Roman,serif\" font-size=\"14.00\">c</text>\n",
       "<polyline fill=\"none\" stroke=\"black\" points=\"334.38,-27.75 334.38,-63.5\"/>\n",
       "<text text-anchor=\"middle\" x=\"374.62\" y=\"-40.2\" font-family=\"Times New Roman,serif\" font-size=\"14.00\">data 1.5000</text>\n",
       "<polyline fill=\"none\" stroke=\"black\" points=\"414.88,-27.75 414.88,-63.5\"/>\n",
       "<text text-anchor=\"middle\" x=\"455.88\" y=\"-40.2\" font-family=\"Times New Roman,serif\" font-size=\"14.00\">grad 0.2700</text>\n",
       "</g>\n",
       "<!-- 2190885196752* -->\n",
       "<g id=\"node9\" class=\"node\">\n",
       "<title>2190885196752*</title>\n",
       "<ellipse fill=\"none\" stroke=\"black\" cx=\"560.25\" cy=\"-72.5\" rx=\"27\" ry=\"18\"/>\n",
       "<text text-anchor=\"middle\" x=\"560.25\" y=\"-67.08\" font-family=\"Times New Roman,serif\" font-size=\"14.00\">*</text>\n",
       "</g>\n",
       "<!-- 2190885919248&#45;&gt;2190885196752* -->\n",
       "<g id=\"edge5\" class=\"edge\">\n",
       "<title>2190885919248&#45;&gt;2190885196752*</title>\n",
       "<path fill=\"none\" stroke=\"black\" d=\"M496.61,-61.52C505.96,-63.16 515.02,-64.75 523.21,-66.18\"/>\n",
       "<polygon fill=\"black\" stroke=\"black\" points=\"522.32,-69.75 532.78,-68.03 523.53,-62.86 522.32,-69.75\"/>\n",
       "</g>\n",
       "<!-- 2190885919248+ -->\n",
       "<g id=\"node2\" class=\"node\">\n",
       "<title>2190885919248+</title>\n",
       "<ellipse fill=\"none\" stroke=\"black\" cx=\"248.25\" cy=\"-45.5\" rx=\"27\" ry=\"18\"/>\n",
       "<text text-anchor=\"middle\" x=\"248.25\" y=\"-40.08\" font-family=\"Times New Roman,serif\" font-size=\"14.00\">+</text>\n",
       "</g>\n",
       "<!-- 2190885919248+&#45;&gt;2190885919248 -->\n",
       "<g id=\"edge1\" class=\"edge\">\n",
       "<title>2190885919248+&#45;&gt;2190885919248</title>\n",
       "<path fill=\"none\" stroke=\"black\" d=\"M275.72,-45.5C283.2,-45.5 291.82,-45.5 300.97,-45.5\"/>\n",
       "<polygon fill=\"black\" stroke=\"black\" points=\"300.93,-49 310.93,-45.5 300.93,-42 300.93,-49\"/>\n",
       "</g>\n",
       "<!-- 2190885918800 -->\n",
       "<g id=\"node3\" class=\"node\">\n",
       "<title>2190885918800</title>\n",
       "<polygon fill=\"none\" stroke=\"black\" points=\"311.25,-82.5 311.25,-118.5 497.25,-118.5 497.25,-82.5 311.25,-82.5\"/>\n",
       "<text text-anchor=\"middle\" x=\"323\" y=\"-95.2\" font-family=\"Times New Roman,serif\" font-size=\"14.00\">d</text>\n",
       "<polyline fill=\"none\" stroke=\"black\" points=\"334.75,-82.75 334.75,-118.5\"/>\n",
       "<text text-anchor=\"middle\" x=\"375\" y=\"-95.2\" font-family=\"Times New Roman,serif\" font-size=\"14.00\">data 0.2000</text>\n",
       "<polyline fill=\"none\" stroke=\"black\" points=\"415.25,-82.75 415.25,-118.5\"/>\n",
       "<text text-anchor=\"middle\" x=\"456.25\" y=\"-95.2\" font-family=\"Times New Roman,serif\" font-size=\"14.00\">grad 2.0248</text>\n",
       "</g>\n",
       "<!-- 2190885918800&#45;&gt;2190885196752* -->\n",
       "<g id=\"edge7\" class=\"edge\">\n",
       "<title>2190885918800&#45;&gt;2190885196752*</title>\n",
       "<path fill=\"none\" stroke=\"black\" d=\"M497.06,-83.81C506.16,-82.15 514.98,-80.55 522.98,-79.09\"/>\n",
       "<polygon fill=\"black\" stroke=\"black\" points=\"523.47,-82.38 532.68,-77.15 522.21,-75.49 523.47,-82.38\"/>\n",
       "</g>\n",
       "<!-- 2190885101200 -->\n",
       "<g id=\"node4\" class=\"node\">\n",
       "<title>2190885101200</title>\n",
       "<polygon fill=\"none\" stroke=\"black\" points=\"0.38,-55.5 0.38,-91.5 184.88,-91.5 184.88,-55.5 0.38,-55.5\"/>\n",
       "<text text-anchor=\"middle\" x=\"11.38\" y=\"-68.2\" font-family=\"Times New Roman,serif\" font-size=\"14.00\">a</text>\n",
       "<polyline fill=\"none\" stroke=\"black\" points=\"22.38,-55.75 22.38,-91.5\"/>\n",
       "<text text-anchor=\"middle\" x=\"62.62\" y=\"-68.2\" font-family=\"Times New Roman,serif\" font-size=\"14.00\">data 0.5000</text>\n",
       "<polyline fill=\"none\" stroke=\"black\" points=\"102.88,-55.75 102.88,-91.5\"/>\n",
       "<text text-anchor=\"middle\" x=\"143.88\" y=\"-68.2\" font-family=\"Times New Roman,serif\" font-size=\"14.00\">grad 0.2700</text>\n",
       "</g>\n",
       "<!-- 2190885101200&#45;&gt;2190885919248+ -->\n",
       "<g id=\"edge8\" class=\"edge\">\n",
       "<title>2190885101200&#45;&gt;2190885919248+</title>\n",
       "<path fill=\"none\" stroke=\"black\" d=\"M184.76,-56.89C194.09,-55.19 203.13,-53.54 211.3,-52.05\"/>\n",
       "<polygon fill=\"black\" stroke=\"black\" points=\"211.63,-55.37 220.84,-50.13 210.37,-48.48 211.63,-55.37\"/>\n",
       "</g>\n",
       "<!-- 2190885917904 -->\n",
       "<g id=\"node5\" class=\"node\">\n",
       "<title>2190885917904</title>\n",
       "<polygon fill=\"none\" stroke=\"black\" points=\"0,-0.5 0,-36.5 185.25,-36.5 185.25,-0.5 0,-0.5\"/>\n",
       "<text text-anchor=\"middle\" x=\"11.38\" y=\"-13.2\" font-family=\"Times New Roman,serif\" font-size=\"14.00\">c</text>\n",
       "<polyline fill=\"none\" stroke=\"black\" points=\"22.75,-0.75 22.75,-36.5\"/>\n",
       "<text text-anchor=\"middle\" x=\"63\" y=\"-13.2\" font-family=\"Times New Roman,serif\" font-size=\"14.00\">data 1.0000</text>\n",
       "<polyline fill=\"none\" stroke=\"black\" points=\"103.25,-0.75 103.25,-36.5\"/>\n",
       "<text text-anchor=\"middle\" x=\"144.25\" y=\"-13.2\" font-family=\"Times New Roman,serif\" font-size=\"14.00\">grad 0.2700</text>\n",
       "</g>\n",
       "<!-- 2190885917904&#45;&gt;2190885919248+ -->\n",
       "<g id=\"edge6\" class=\"edge\">\n",
       "<title>2190885917904&#45;&gt;2190885919248+</title>\n",
       "<path fill=\"none\" stroke=\"black\" d=\"M185.21,-34.6C194.29,-36.19 203.09,-37.74 211.07,-39.14\"/>\n",
       "<polygon fill=\"black\" stroke=\"black\" points=\"210.29,-42.73 220.74,-41.02 211.5,-35.84 210.29,-42.73\"/>\n",
       "</g>\n",
       "<!-- 2190885917648 -->\n",
       "<g id=\"node6\" class=\"node\">\n",
       "<title>2190885917648</title>\n",
       "<polygon fill=\"none\" stroke=\"black\" points=\"936,-54.5 936,-90.5 1143,-90.5 1143,-54.5 936,-54.5\"/>\n",
       "<text text-anchor=\"middle\" x=\"958.25\" y=\"-67.2\" font-family=\"Times New Roman,serif\" font-size=\"14.00\">Lexp</text>\n",
       "<polyline fill=\"none\" stroke=\"black\" points=\"980.5,-54.75 980.5,-90.5\"/>\n",
       "<text text-anchor=\"middle\" x=\"1020.75\" y=\"-67.2\" font-family=\"Times New Roman,serif\" font-size=\"14.00\">data 1.3499</text>\n",
       "<polyline fill=\"none\" stroke=\"black\" points=\"1061,-54.75 1061,-90.5\"/>\n",
       "<text text-anchor=\"middle\" x=\"1102\" y=\"-67.2\" font-family=\"Times New Roman,serif\" font-size=\"14.00\">grad 1.0000</text>\n",
       "</g>\n",
       "<!-- 2190885917648exp -->\n",
       "<g id=\"node7\" class=\"node\">\n",
       "<title>2190885917648exp</title>\n",
       "<ellipse fill=\"none\" stroke=\"black\" cx=\"873\" cy=\"-72.5\" rx=\"27\" ry=\"18\"/>\n",
       "<text text-anchor=\"middle\" x=\"873\" y=\"-67.08\" font-family=\"Times New Roman,serif\" font-size=\"14.00\">exp</text>\n",
       "</g>\n",
       "<!-- 2190885917648exp&#45;&gt;2190885917648 -->\n",
       "<g id=\"edge2\" class=\"edge\">\n",
       "<title>2190885917648exp&#45;&gt;2190885917648</title>\n",
       "<path fill=\"none\" stroke=\"black\" d=\"M900.43,-72.5C907.81,-72.5 916.32,-72.5 925.42,-72.5\"/>\n",
       "<polygon fill=\"black\" stroke=\"black\" points=\"925.34,-76 935.34,-72.5 925.34,-69 925.34,-76\"/>\n",
       "</g>\n",
       "<!-- 2190885196752 -->\n",
       "<g id=\"node8\" class=\"node\">\n",
       "<title>2190885196752</title>\n",
       "<polygon fill=\"none\" stroke=\"black\" points=\"623.25,-54.5 623.25,-90.5 810,-90.5 810,-54.5 623.25,-54.5\"/>\n",
       "<text text-anchor=\"middle\" x=\"635.38\" y=\"-67.2\" font-family=\"Times New Roman,serif\" font-size=\"14.00\">L</text>\n",
       "<polyline fill=\"none\" stroke=\"black\" points=\"647.5,-54.75 647.5,-90.5\"/>\n",
       "<text text-anchor=\"middle\" x=\"687.75\" y=\"-67.2\" font-family=\"Times New Roman,serif\" font-size=\"14.00\">data 0.3000</text>\n",
       "<polyline fill=\"none\" stroke=\"black\" points=\"728,-54.75 728,-90.5\"/>\n",
       "<text text-anchor=\"middle\" x=\"769\" y=\"-67.2\" font-family=\"Times New Roman,serif\" font-size=\"14.00\">grad 1.3499</text>\n",
       "</g>\n",
       "<!-- 2190885196752&#45;&gt;2190885917648exp -->\n",
       "<g id=\"edge4\" class=\"edge\">\n",
       "<title>2190885196752&#45;&gt;2190885917648exp</title>\n",
       "<path fill=\"none\" stroke=\"black\" d=\"M809.65,-72.5C818.5,-72.5 827.08,-72.5 834.9,-72.5\"/>\n",
       "<polygon fill=\"black\" stroke=\"black\" points=\"834.76,-76 844.76,-72.5 834.76,-69 834.76,-76\"/>\n",
       "</g>\n",
       "<!-- 2190885196752*&#45;&gt;2190885196752 -->\n",
       "<g id=\"edge3\" class=\"edge\">\n",
       "<title>2190885196752*&#45;&gt;2190885196752</title>\n",
       "<path fill=\"none\" stroke=\"black\" d=\"M587.44,-72.5C594.86,-72.5 603.41,-72.5 612.52,-72.5\"/>\n",
       "<polygon fill=\"black\" stroke=\"black\" points=\"612.41,-76 622.41,-72.5 612.41,-69 612.41,-76\"/>\n",
       "</g>\n",
       "</g>\n",
       "</svg>\n"
      ],
      "text/plain": [
       "<graphviz.graphs.Digraph at 0x1fe1aedaa50>"
      ]
     },
     "execution_count": 7,
     "metadata": {},
     "output_type": "execute_result"
    }
   ],
   "source": [
    "draw_dot(Lexp)"
   ]
  },
  {
   "cell_type": "markdown",
   "id": "d03e60f7-42c5-43c1-aaa2-b093c6b4973f",
   "metadata": {},
   "source": [
    "## Single neuron"
   ]
  },
  {
   "cell_type": "code",
   "execution_count": 90,
   "id": "6de628b3-daca-4f17-a77b-a3684b6e938b",
   "metadata": {},
   "outputs": [],
   "source": [
    "class Neuron:\n",
    "    def __init__(self, nin):\n",
    "        self.w = [Value(random.uniform(-1,1) for _ in range(nin))]\n",
    "        self.b = Value(random.uniform(-1,1))\n",
    "    \n",
    "    def __call__(self, x):\n",
    "        #w*x +b\n",
    "        act = sum(wi*xi for wi, xi in zip(self.w, x)) + self.b\n",
    "        out = act.tanh()\n",
    "        return out\n",
    "        return out\n",
    "    \n",
    "    def parameters(self):\n",
    "        return (self.w + [self.b])"
   ]
  },
  {
   "cell_type": "markdown",
   "id": "5cc6ac1d-4903-474b-a316-55a50e60eb0d",
   "metadata": {},
   "source": [
    "## Layer of Neurons"
   ]
  },
  {
   "cell_type": "code",
   "execution_count": 91,
   "id": "198769d7-9833-4ff6-9df3-4980c9337392",
   "metadata": {},
   "outputs": [],
   "source": [
    "class Layer:\n",
    "    def __init__(self, ninp, nout):\n",
    "        self.neurons = [Neuron(ninp) for i in range(nout)]\n",
    "    \n",
    "    \n",
    "    def __call__(self, X):\n",
    "        outs = [n(X) for n in self.neurons]\n",
    "        return outs[0] if len(outs) == 1 else outs\n",
    "    \n",
    "    def parameters(self):\n",
    "            return [p for neuron in self.neurons for p in neuron.parameters()]\n",
    "            "
   ]
  },
  {
   "cell_type": "markdown",
   "id": "f8e82b90-3387-45b8-9a79-042e86dec4ff",
   "metadata": {},
   "source": [
    "## Multi-layer perceptron"
   ]
  },
  {
   "cell_type": "code",
   "execution_count": 92,
   "id": "73e270fd-4442-41dd-a994-991d78c4b649",
   "metadata": {},
   "outputs": [],
   "source": [
    "class MLP:\n",
    "    def __init__(self, ninp = 3):\n",
    "        self.layers=[]\n",
    "        self.layer1 = Layer(ninp, 3)\n",
    "        self.layers.append(self.layer1)\n",
    "        self.layer2 = Layer(3,4)\n",
    "        self.layers.append(self.layer2)\n",
    "        self.layer3 = Layer(4, 3)\n",
    "        self.layers.append(self.layer3)\n",
    "        self.layer4 = Layer(3, 1)\n",
    "        self.layers.append(self.layer4)\n",
    "    \n",
    "    def __call__(self, X):\n",
    "        out1 = self.layer1(X)\n",
    "        out2 = self.layer2(out1)\n",
    "        out3 = self.layer3(out2)\n",
    "        out4 = self.layer4(out3)\n",
    "        return out4\n",
    "    \n",
    "    def parameters(self):\n",
    "        return [p for layer in self.layers for p in layer.parameters()]\n",
    "        "
   ]
  },
  {
   "cell_type": "code",
   "execution_count": 93,
   "id": "c8a5dd94-ebb3-4537-b2b2-42415c75eaa3",
   "metadata": {},
   "outputs": [],
   "source": [
    "X = [2.0 , 3.0, 4.0]"
   ]
  },
  {
   "cell_type": "code",
   "execution_count": 94,
   "id": "2d3a0600-0773-4030-a9a9-2d03401eb341",
   "metadata": {},
   "outputs": [
    {
     "name": "stdout",
     "output_type": "stream",
     "text": [
      "[Value(data=<generator object Neuron.__init__.<locals>.<genexpr> at 0x000001FE1B52C120>), Value(data=0.07015050982298177)]\n"
     ]
    },
    {
     "ename": "TypeError",
     "evalue": "unsupported operand type(s) for *: 'generator' and 'float'",
     "output_type": "error",
     "traceback": [
      "\u001b[1;31m---------------------------------------------------------------------------\u001b[0m",
      "\u001b[1;31mTypeError\u001b[0m                                 Traceback (most recent call last)",
      "Cell \u001b[1;32mIn[94], line 3\u001b[0m\n\u001b[0;32m      1\u001b[0m test \u001b[38;5;241m=\u001b[39m Neuron(\u001b[38;5;241m3\u001b[39m)\n\u001b[0;32m      2\u001b[0m \u001b[38;5;28mprint\u001b[39m(test\u001b[38;5;241m.\u001b[39mparameters())\n\u001b[1;32m----> 3\u001b[0m out \u001b[38;5;241m=\u001b[39m \u001b[43mtest\u001b[49m\u001b[43m(\u001b[49m\u001b[43mX\u001b[49m\u001b[43m)\u001b[49m\n\u001b[0;32m      4\u001b[0m draw_dot(out)\n",
      "Cell \u001b[1;32mIn[90], line 8\u001b[0m, in \u001b[0;36mNeuron.__call__\u001b[1;34m(self, x)\u001b[0m\n\u001b[0;32m      6\u001b[0m \u001b[38;5;28;01mdef\u001b[39;00m \u001b[38;5;21m__call__\u001b[39m(\u001b[38;5;28mself\u001b[39m, x):\n\u001b[0;32m      7\u001b[0m     \u001b[38;5;66;03m#w*x +b\u001b[39;00m\n\u001b[1;32m----> 8\u001b[0m     act \u001b[38;5;241m=\u001b[39m \u001b[38;5;28;43msum\u001b[39;49m\u001b[43m(\u001b[49m\u001b[43mwi\u001b[49m\u001b[38;5;241;43m*\u001b[39;49m\u001b[43mxi\u001b[49m\u001b[43m \u001b[49m\u001b[38;5;28;43;01mfor\u001b[39;49;00m\u001b[43m \u001b[49m\u001b[43mwi\u001b[49m\u001b[43m,\u001b[49m\u001b[43m \u001b[49m\u001b[43mxi\u001b[49m\u001b[43m \u001b[49m\u001b[38;5;129;43;01min\u001b[39;49;00m\u001b[43m \u001b[49m\u001b[38;5;28;43mzip\u001b[39;49m\u001b[43m(\u001b[49m\u001b[38;5;28;43mself\u001b[39;49m\u001b[38;5;241;43m.\u001b[39;49m\u001b[43mw\u001b[49m\u001b[43m,\u001b[49m\u001b[43m \u001b[49m\u001b[43mx\u001b[49m\u001b[43m)\u001b[49m\u001b[43m)\u001b[49m \u001b[38;5;241m+\u001b[39m \u001b[38;5;28mself\u001b[39m\u001b[38;5;241m.\u001b[39mb\n\u001b[0;32m      9\u001b[0m     out \u001b[38;5;241m=\u001b[39m act\u001b[38;5;241m.\u001b[39mtanh()\n\u001b[0;32m     10\u001b[0m     \u001b[38;5;28;01mreturn\u001b[39;00m out\n",
      "Cell \u001b[1;32mIn[90], line 8\u001b[0m, in \u001b[0;36m<genexpr>\u001b[1;34m(.0)\u001b[0m\n\u001b[0;32m      6\u001b[0m \u001b[38;5;28;01mdef\u001b[39;00m \u001b[38;5;21m__call__\u001b[39m(\u001b[38;5;28mself\u001b[39m, x):\n\u001b[0;32m      7\u001b[0m     \u001b[38;5;66;03m#w*x +b\u001b[39;00m\n\u001b[1;32m----> 8\u001b[0m     act \u001b[38;5;241m=\u001b[39m \u001b[38;5;28msum\u001b[39m(\u001b[43mwi\u001b[49m\u001b[38;5;241;43m*\u001b[39;49m\u001b[43mxi\u001b[49m \u001b[38;5;28;01mfor\u001b[39;00m wi, xi \u001b[38;5;129;01min\u001b[39;00m \u001b[38;5;28mzip\u001b[39m(\u001b[38;5;28mself\u001b[39m\u001b[38;5;241m.\u001b[39mw, x)) \u001b[38;5;241m+\u001b[39m \u001b[38;5;28mself\u001b[39m\u001b[38;5;241m.\u001b[39mb\n\u001b[0;32m      9\u001b[0m     out \u001b[38;5;241m=\u001b[39m act\u001b[38;5;241m.\u001b[39mtanh()\n\u001b[0;32m     10\u001b[0m     \u001b[38;5;28;01mreturn\u001b[39;00m out\n",
      "Cell \u001b[1;32mIn[4], line 28\u001b[0m, in \u001b[0;36mValue.__mul__\u001b[1;34m(self, other)\u001b[0m\n\u001b[0;32m     26\u001b[0m \u001b[38;5;28;01mif\u001b[39;00m \u001b[38;5;129;01mnot\u001b[39;00m \u001b[38;5;28misinstance\u001b[39m(other, Value):\n\u001b[0;32m     27\u001b[0m     other \u001b[38;5;241m=\u001b[39m Value(other)\n\u001b[1;32m---> 28\u001b[0m out \u001b[38;5;241m=\u001b[39m Value(\u001b[38;5;28;43mself\u001b[39;49m\u001b[38;5;241;43m.\u001b[39;49m\u001b[43mdata\u001b[49m\u001b[43m \u001b[49m\u001b[38;5;241;43m*\u001b[39;49m\u001b[43m \u001b[49m\u001b[43mother\u001b[49m\u001b[38;5;241;43m.\u001b[39;49m\u001b[43mdata\u001b[49m, _op\u001b[38;5;241m=\u001b[39m\u001b[38;5;124m'\u001b[39m\u001b[38;5;124m*\u001b[39m\u001b[38;5;124m'\u001b[39m, _children\u001b[38;5;241m=\u001b[39m(\u001b[38;5;28mself\u001b[39m, other))\n\u001b[0;32m     29\u001b[0m \u001b[38;5;28;01mdef\u001b[39;00m \u001b[38;5;21m_backward\u001b[39m():\n\u001b[0;32m     30\u001b[0m     \u001b[38;5;28mprint\u001b[39m(\u001b[38;5;124m\"\u001b[39m\u001b[38;5;124mmul grad\u001b[39m\u001b[38;5;124m\"\u001b[39m)\n",
      "\u001b[1;31mTypeError\u001b[0m: unsupported operand type(s) for *: 'generator' and 'float'"
     ]
    }
   ],
   "source": [
    "test = Neuron(3)\n",
    "print(test.parameters())\n",
    "out = test(X)\n",
    "draw_dot(out)"
   ]
  },
  {
   "cell_type": "code",
   "execution_count": 73,
   "id": "1191ad57-6611-4c91-af7d-0ae5ab308569",
   "metadata": {},
   "outputs": [
    {
     "name": "stdout",
     "output_type": "stream",
     "text": [
      "[0.2439466205053471, 0.9882921436741134, 0.5528668891854895, 0.27556310110956805, 0.7172941242851298, 0.004493298102123955, 0.8006729644159185, -0.14966503372640605]\n",
      "[Value(data=0.9999861394018633), Value(data=0.9997537506420752)]\n"
     ]
    }
   ],
   "source": [
    "test1 = Layer(3, 2)\n",
    "print(test1.parameters())\n",
    "print(test1(X))"
   ]
  },
  {
   "cell_type": "code",
   "execution_count": 64,
   "id": "548432fa-d601-4f40-b77d-cb404775a5e5",
   "metadata": {},
   "outputs": [
    {
     "name": "stdout",
     "output_type": "stream",
     "text": [
      "[0.5129497688887557, 0.9661079281954934, 0.7489115896216736, -0.701169477134943, -0.8783403143865267, -0.9687161273205598, -0.2609668356035426, 0.9981500082046426, -0.658743635529506, -0.896811181142642, 0.8222582638935714, 0.5298003229886679, 0.9231114454871057, -0.9896601261618736, 0.952863848176601, 0.7124144654390452, -0.20910535726202806, -0.9511448506227949, 0.852970782156043, 0.8363763597679235, 0.743045722953122, -0.8406178631976784, 0.9822618875544993, -0.2370953901451971, 0.35354073574156675, -0.9228738371974903, -0.8436317189364739, 0.8632107679333139, -0.9316834788878652, -0.44470031775942886, 0.3401030556143876, -0.776686351702776, -0.4272404554880884, 0.714646843616362, -0.7832133599860873, -0.0639713398486701, -0.7565316016630694, -0.12608767653599262, 0.5633856946884319, 0.15375937588440647, 0.2669963392365726, 0.6473235680667613, 0.4488623823121676, -0.9962933271068728, 0.3943816483097371, -0.21249177919590756, 0.6559142125961015]\n",
      "Value(data=0.8142182804894362)\n"
     ]
    }
   ],
   "source": [
    "mlp = MLP()\n",
    "print(mlp.parameters())\n",
    "print(mlp(X))"
   ]
  },
  {
   "cell_type": "code",
   "execution_count": 65,
   "id": "1f877d53-7dea-433a-ba7f-e32f296a85da",
   "metadata": {},
   "outputs": [
    {
     "data": {
      "image/svg+xml": [
       "<?xml version=\"1.0\" encoding=\"UTF-8\" standalone=\"no\"?>\n",
       "<!DOCTYPE svg PUBLIC \"-//W3C//DTD SVG 1.1//EN\"\n",
       " \"http://www.w3.org/Graphics/SVG/1.1/DTD/svg11.dtd\">\n",
       "<!-- Generated by graphviz version 8.0.5 (20230430.1635)\n",
       " -->\n",
       "<!-- Pages: 1 -->\n",
       "<svg width=\"499pt\" height=\"45pt\"\n",
       " viewBox=\"0.00 0.00 498.50 45.00\" xmlns=\"http://www.w3.org/2000/svg\" xmlns:xlink=\"http://www.w3.org/1999/xlink\">\n",
       "<g id=\"graph0\" class=\"graph\" transform=\"scale(1 1) rotate(0) translate(4 41)\">\n",
       "<polygon fill=\"white\" stroke=\"none\" points=\"-4,4 -4,-41 494.5,-41 494.5,4 -4,4\"/>\n",
       "<!-- 2190886076368 -->\n",
       "<g id=\"node1\" class=\"node\">\n",
       "<title>2190886076368</title>\n",
       "<polygon fill=\"none\" stroke=\"black\" points=\"0,-0.5 0,-36.5 182.25,-36.5 182.25,-0.5 0,-0.5\"/>\n",
       "<text text-anchor=\"middle\" x=\"9.88\" y=\"-13.2\" font-family=\"Times New Roman,serif\" font-size=\"14.00\"> </text>\n",
       "<polyline fill=\"none\" stroke=\"black\" points=\"19.75,-0.75 19.75,-36.5\"/>\n",
       "<text text-anchor=\"middle\" x=\"60\" y=\"-13.2\" font-family=\"Times New Roman,serif\" font-size=\"14.00\">data 1.1394</text>\n",
       "<polyline fill=\"none\" stroke=\"black\" points=\"100.25,-0.75 100.25,-36.5\"/>\n",
       "<text text-anchor=\"middle\" x=\"141.25\" y=\"-13.2\" font-family=\"Times New Roman,serif\" font-size=\"14.00\">grad 0.0000</text>\n",
       "</g>\n",
       "<!-- 2190886076240tanh -->\n",
       "<g id=\"node3\" class=\"node\">\n",
       "<title>2190886076240tanh</title>\n",
       "<ellipse fill=\"none\" stroke=\"black\" cx=\"245.25\" cy=\"-18.5\" rx=\"27\" ry=\"18\"/>\n",
       "<text text-anchor=\"middle\" x=\"245.25\" y=\"-13.07\" font-family=\"Times New Roman,serif\" font-size=\"14.00\">tanh</text>\n",
       "</g>\n",
       "<!-- 2190886076368&#45;&gt;2190886076240tanh -->\n",
       "<g id=\"edge2\" class=\"edge\">\n",
       "<title>2190886076368&#45;&gt;2190886076240tanh</title>\n",
       "<path fill=\"none\" stroke=\"black\" d=\"M181.94,-18.5C190.75,-18.5 199.31,-18.5 207.13,-18.5\"/>\n",
       "<polygon fill=\"black\" stroke=\"black\" points=\"206.98,-22 216.98,-18.5 206.98,-15 206.98,-22\"/>\n",
       "</g>\n",
       "<!-- 2190886076240 -->\n",
       "<g id=\"node2\" class=\"node\">\n",
       "<title>2190886076240</title>\n",
       "<polygon fill=\"none\" stroke=\"black\" points=\"308.25,-0.5 308.25,-36.5 490.5,-36.5 490.5,-0.5 308.25,-0.5\"/>\n",
       "<text text-anchor=\"middle\" x=\"318.12\" y=\"-13.2\" font-family=\"Times New Roman,serif\" font-size=\"14.00\"> </text>\n",
       "<polyline fill=\"none\" stroke=\"black\" points=\"328,-0.75 328,-36.5\"/>\n",
       "<text text-anchor=\"middle\" x=\"368.25\" y=\"-13.2\" font-family=\"Times New Roman,serif\" font-size=\"14.00\">data 0.8142</text>\n",
       "<polyline fill=\"none\" stroke=\"black\" points=\"408.5,-0.75 408.5,-36.5\"/>\n",
       "<text text-anchor=\"middle\" x=\"449.5\" y=\"-13.2\" font-family=\"Times New Roman,serif\" font-size=\"14.00\">grad 0.0000</text>\n",
       "</g>\n",
       "<!-- 2190886076240tanh&#45;&gt;2190886076240 -->\n",
       "<g id=\"edge1\" class=\"edge\">\n",
       "<title>2190886076240tanh&#45;&gt;2190886076240</title>\n",
       "<path fill=\"none\" stroke=\"black\" d=\"M272.75,-18.5C280.15,-18.5 288.66,-18.5 297.7,-18.5\"/>\n",
       "<polygon fill=\"black\" stroke=\"black\" points=\"297.5,-22 307.5,-18.5 297.5,-15 297.5,-22\"/>\n",
       "</g>\n",
       "</g>\n",
       "</svg>\n"
      ],
      "text/plain": [
       "<graphviz.graphs.Digraph at 0x1fe1afc4550>"
      ]
     },
     "execution_count": 65,
     "metadata": {},
     "output_type": "execute_result"
    }
   ],
   "source": [
    "draw_dot(mlp(X))"
   ]
  },
  {
   "cell_type": "code",
   "execution_count": null,
   "id": "54281dac-cc6a-482c-a542-830bb51937c3",
   "metadata": {},
   "outputs": [],
   "source": []
  }
 ],
 "metadata": {
  "kernelspec": {
   "display_name": "Python 3 (ipykernel)",
   "language": "python",
   "name": "python3"
  },
  "language_info": {
   "codemirror_mode": {
    "name": "ipython",
    "version": 3
   },
   "file_extension": ".py",
   "mimetype": "text/x-python",
   "name": "python",
   "nbconvert_exporter": "python",
   "pygments_lexer": "ipython3",
   "version": "3.11.3"
  }
 },
 "nbformat": 4,
 "nbformat_minor": 5
}
